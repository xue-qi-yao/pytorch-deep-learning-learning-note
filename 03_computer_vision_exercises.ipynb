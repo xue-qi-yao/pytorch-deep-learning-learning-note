{
  "cells": [
    {
      "cell_type": "markdown",
      "metadata": {
        "colab_type": "text",
        "id": "view-in-github"
      },
      "source": [
        "<a href=\"https://colab.research.google.com/github/mrdbourke/pytorch-deep-learning/blob/main/extras/exercises/03_pytorch_computer_vision_exercises.ipynb\" target=\"_parent\"><img src=\"https://colab.research.google.com/assets/colab-badge.svg\" alt=\"Open In Colab\"/></a>"
      ]
    },
    {
      "cell_type": "markdown",
      "metadata": {
        "id": "Vex99np2wFVt"
      },
      "source": [
        "# 03. PyTorch Computer Vision Exercises\n",
        "\n",
        "The following is a collection of exercises based on computer vision fundamentals in PyTorch.\n",
        "\n",
        "They're a bunch of fun.\n",
        "\n",
        "You're going to get to write plenty of code!\n",
        "\n",
        "## Resources\n",
        "\n",
        "1. These exercises are based on [notebook 03 of the Learn PyTorch for Deep Learning course](https://www.learnpytorch.io/03_pytorch_computer_vision/). \n",
        "2. See a live [walkthrough of the solutions (errors and all) on YouTube](https://youtu.be/_PibmqpEyhA). \n",
        "  * **Note:** Going through these exercises took me just over 3 hours of solid coding, so you should expect around the same.\n",
        "3. See [other solutions on the course GitHub](https://github.com/mrdbourke/pytorch-deep-learning/tree/main/extras/solutions)."
      ]
    },
    {
      "cell_type": "code",
      "execution_count": 1,
      "metadata": {
        "colab": {
          "base_uri": "https://localhost:8080/"
        },
        "id": "GaeYzOTLwWh2",
        "outputId": "17dd5453-9639-4b01-aa18-7ddbfd5c3253"
      },
      "outputs": [
        {
          "name": "stdout",
          "output_type": "stream",
          "text": [
            "Fri Oct 25 15:59:20 2024       \n",
            "+-----------------------------------------------------------------------------------------+\n",
            "| NVIDIA-SMI 550.120                Driver Version: 550.120        CUDA Version: 12.4     |\n",
            "|-----------------------------------------+------------------------+----------------------+\n",
            "| GPU  Name                 Persistence-M | Bus-Id          Disp.A | Volatile Uncorr. ECC |\n",
            "| Fan  Temp   Perf          Pwr:Usage/Cap |           Memory-Usage | GPU-Util  Compute M. |\n",
            "|                                         |                        |               MIG M. |\n",
            "|=========================================+========================+======================|\n",
            "|   0  NVIDIA H100 NVL                On  |   00000000:01:00.0 Off |                    0 |\n",
            "| N/A   37C    P0             65W /  400W |       4MiB /  95830MiB |      0%      Default |\n",
            "|                                         |                        |             Disabled |\n",
            "+-----------------------------------------+------------------------+----------------------+\n",
            "|   1  NVIDIA H100 NVL                On  |   00000000:21:00.0 Off |                    0 |\n",
            "| N/A   38C    P0             60W /  400W |       4MiB /  95830MiB |      0%      Default |\n",
            "|                                         |                        |             Disabled |\n",
            "+-----------------------------------------+------------------------+----------------------+\n",
            "|   2  NVIDIA H100 NVL                On  |   00000000:C1:00.0 Off |                    0 |\n",
            "| N/A   47C    P0             96W /  400W |   95230MiB /  95830MiB |      0%      Default |\n",
            "|                                         |                        |             Disabled |\n",
            "+-----------------------------------------+------------------------+----------------------+\n",
            "|   3  NVIDIA H100 NVL                On  |   00000000:E1:00.0 Off |                    0 |\n",
            "| N/A   31C    P0             61W /  400W |       4MiB /  95830MiB |      0%      Default |\n",
            "|                                         |                        |             Disabled |\n",
            "+-----------------------------------------+------------------------+----------------------+\n",
            "                                                                                         \n",
            "+-----------------------------------------------------------------------------------------+\n",
            "| Processes:                                                                              |\n",
            "|  GPU   GI   CI        PID   Type   Process name                              GPU Memory |\n",
            "|        ID   ID                                                               Usage      |\n",
            "|=========================================================================================|\n",
            "|    2   N/A  N/A    233321      C   /opt/conda/envs/sparse-act/bin/python       95220MiB |\n",
            "+-----------------------------------------------------------------------------------------+\n"
          ]
        }
      ],
      "source": [
        "# Check for GPU\n",
        "!nvidia-smi"
      ]
    },
    {
      "cell_type": "code",
      "execution_count": 2,
      "metadata": {
        "colab": {
          "base_uri": "https://localhost:8080/",
          "height": 53
        },
        "id": "DNwZLMbCzJLk",
        "outputId": "9c150c50-a092-4f34-9d33-b45247fb080d"
      },
      "outputs": [
        {
          "name": "stdout",
          "output_type": "stream",
          "text": [
            "2.4.1+cu124\n"
          ]
        }
      ],
      "source": [
        "# Import torch\n",
        "import torch\n",
        "\n",
        "# Exercises require PyTorch > 1.10.0\n",
        "print(torch.__version__)\n",
        "\n",
        "device = \"cuda\" if torch.cuda.is_available() else \"cpu\""
      ]
    },
    {
      "cell_type": "markdown",
      "metadata": {
        "id": "FSFX7tc1w-en"
      },
      "source": [
        "## 1. What are 3 areas in industry where computer vision is currently being used?"
      ]
    },
    {
      "cell_type": "code",
      "execution_count": null,
      "metadata": {
        "id": "VyWRkvWGbCXj"
      },
      "outputs": [],
      "source": []
    },
    {
      "cell_type": "markdown",
      "metadata": {
        "id": "oBK-WI6YxDYa"
      },
      "source": [
        "## 2. Search \"what is overfitting in machine learning\" and write down a sentence about what you find. "
      ]
    },
    {
      "cell_type": "code",
      "execution_count": null,
      "metadata": {
        "id": "d1rxD6GObCqh"
      },
      "outputs": [],
      "source": []
    },
    {
      "cell_type": "markdown",
      "metadata": {
        "id": "XeYFEqw8xK26"
      },
      "source": [
        "## 3. Search \"ways to prevent overfitting in machine learning\", write down 3 of the things you find and a sentence about each. \n",
        "> **Note:** there are lots of these, so don't worry too much about all of them, just pick 3 and start with those."
      ]
    },
    {
      "cell_type": "code",
      "execution_count": null,
      "metadata": {
        "id": "ocvOdWKcbEKr"
      },
      "outputs": [],
      "source": []
    },
    {
      "cell_type": "markdown",
      "metadata": {
        "id": "DKdEEFEqxM-8"
      },
      "source": [
        "## 4. Spend 20-minutes reading and clicking through the [CNN Explainer website](https://poloclub.github.io/cnn-explainer/).\n",
        "\n",
        "* Upload your own example image using the \"upload\" button on the website and see what happens in each layer of a CNN as your image passes through it."
      ]
    },
    {
      "cell_type": "code",
      "execution_count": null,
      "metadata": {
        "id": "TqZaJIRMbFtS"
      },
      "outputs": [],
      "source": []
    },
    {
      "cell_type": "markdown",
      "metadata": {
        "id": "lvf-3pODxXYI"
      },
      "source": [
        "## 5. Load the [`torchvision.datasets.MNIST()`](https://pytorch.org/vision/stable/generated/torchvision.datasets.MNIST.html#torchvision.datasets.MNIST) train and test datasets."
      ]
    },
    {
      "cell_type": "code",
      "execution_count": 3,
      "metadata": {
        "id": "SHjeuN81bHza"
      },
      "outputs": [
        {
          "name": "stdout",
          "output_type": "stream",
          "text": [
            "Train dataset data length: 60000, Train dataset label length: 60000\n",
            "Image shape: torch.Size([1, 28, 28]), Label datatype: <class 'int'>\n"
          ]
        },
        {
          "data": {
            "text/plain": [
              "['zero',\n",
              " 'one',\n",
              " 'two',\n",
              " 'three',\n",
              " 'four',\n",
              " 'five',\n",
              " 'six',\n",
              " 'seven',\n",
              " 'eight',\n",
              " 'nine']"
            ]
          },
          "execution_count": 3,
          "metadata": {},
          "output_type": "execute_result"
        }
      ],
      "source": [
        "from torchvision import datasets, transforms\n",
        "from torch.utils.data import DataLoader\n",
        "\n",
        "train_dataset = datasets.MNIST(root=\"data\",\n",
        "                               train=True,\n",
        "                               transform=transforms.ToTensor(),\n",
        "                               download=True)\n",
        "\n",
        "test_dataset = datasets.MNIST(root=\"data\",\n",
        "                              train=False,\n",
        "                              transform=transforms.ToTensor(),\n",
        "                              download=True)\n",
        "print(f\"Train dataset data length: {len(train_dataset.data)}, Train dataset label length: {len(train_dataset.targets)}\")\n",
        "sample_image,  sample_label = train_dataset[0]\n",
        "print(f\"Image shape: {sample_image.shape}, Label datatype: {type(sample_label)}\")\n",
        "class_labels = train_dataset.classes\n",
        "class_labels = [class_label.split(\"-\")[-1].strip() for class_label in class_labels]\n",
        "class_labels"
      ]
    },
    {
      "cell_type": "markdown",
      "metadata": {
        "id": "qxZW-uAbxe_F"
      },
      "source": [
        "## 6. Visualize at least 5 different samples of the MNIST training dataset."
      ]
    },
    {
      "cell_type": "code",
      "execution_count": 4,
      "metadata": {
        "id": "QVFsYi1PbItE"
      },
      "outputs": [
        {
          "data": {
            "image/png": "[encoded data removed]",
            "text/plain": [
              "<Figure size 600x400 with 6 Axes>"
            ]
          },
          "metadata": {},
          "output_type": "display_data"
        }
      ],
      "source": [
        "import random\n",
        "import matplotlib.pyplot as plt\n",
        "\n",
        "\n",
        "_, axs = plt.subplots(2, 3, figsize=(6, 4))\n",
        "for i, (image, label) in enumerate(random.sample(list(train_dataset), k=6)):\n",
        "    x = i // 3\n",
        "    y = i % 3\n",
        "    axs[x, y].imshow(image.squeeze(), cmap=\"gray\")\n",
        "    axs[x, y].set_title(class_labels[label])\n",
        "    axs[x, y].axis(\"Off\")"
      ]
    },
    {
      "cell_type": "markdown",
      "metadata": {
        "id": "JAPDzW0wxhi3"
      },
      "source": [
        "## 7. Turn the MNIST train and test datasets into dataloaders using `torch.utils.data.DataLoader`, set the `batch_size=32`."
      ]
    },
    {
      "cell_type": "code",
      "execution_count": 5,
      "metadata": {
        "id": "ALA6MPcFbJXQ"
      },
      "outputs": [
        {
          "name": "stdout",
          "output_type": "stream",
          "text": [
            "Length of train dataloader 1875, batch size of 32\n",
            "Length of test dataloader 313, batch size of 32\n"
          ]
        }
      ],
      "source": [
        "BATCH_SIZE = 32\n",
        "\n",
        "train_dataloader = DataLoader(dataset=train_dataset, \n",
        "                              batch_size=BATCH_SIZE,\n",
        "                              shuffle=True)\n",
        "\n",
        "test_dataloader = DataLoader(dataset=test_dataset,\n",
        "                             batch_size=BATCH_SIZE,\n",
        "                             shuffle=False)\n",
        "\n",
        "print(f\"Length of train dataloader {len(train_dataloader)}, batch size of {BATCH_SIZE}\")\n",
        "print(f\"Length of test dataloader {len(test_dataloader)}, batch size of {BATCH_SIZE}\")"
      ]
    },
    {
      "cell_type": "markdown",
      "metadata": {
        "id": "bCCVfXk5xjYS"
      },
      "source": [
        "## 8. Recreate `model_2` used in notebook 03 (the same model from the [CNN Explainer website](https://poloclub.github.io/cnn-explainer/), also known as TinyVGG) capable of fitting on the MNIST dataset."
      ]
    },
    {
      "cell_type": "code",
      "execution_count": 6,
      "metadata": {
        "id": "5IKNF22XbKYS"
      },
      "outputs": [
        {
          "data": {
            "text/plain": [
              "TinyVGG(\n",
              "  (block1): Sequential(\n",
              "    (0): Conv2d(1, 10, kernel_size=(3, 3), stride=(1, 1), padding=(1, 1))\n",
              "    (1): ReLU()\n",
              "    (2): Conv2d(10, 10, kernel_size=(3, 3), stride=(1, 1), padding=(1, 1))\n",
              "    (3): ReLU()\n",
              "    (4): MaxPool2d(kernel_size=2, stride=2, padding=0, dilation=1, ceil_mode=False)\n",
              "  )\n",
              "  (block2): Sequential(\n",
              "    (0): Conv2d(10, 10, kernel_size=(3, 3), stride=(1, 1), padding=(1, 1))\n",
              "    (1): ReLU()\n",
              "    (2): Conv2d(10, 10, kernel_size=(3, 3), stride=(1, 1), padding=(1, 1))\n",
              "    (3): ReLU()\n",
              "    (4): MaxPool2d(kernel_size=2, stride=2, padding=0, dilation=1, ceil_mode=False)\n",
              "  )\n",
              "  (classifier): Sequential(\n",
              "    (0): Flatten(start_dim=1, end_dim=-1)\n",
              "    (1): Linear(in_features=490, out_features=10, bias=True)\n",
              "  )\n",
              ")"
            ]
          },
          "execution_count": 6,
          "metadata": {},
          "output_type": "execute_result"
        }
      ],
      "source": [
        "from torch import nn\n",
        "\n",
        "class TinyVGG(nn.Module):\n",
        "    def __init__(self, input_dim, hidden_dim, output_dim):\n",
        "        super().__init__()\n",
        "        self.block1 = nn.Sequential(\n",
        "            nn.Conv2d(in_channels=input_dim,\n",
        "                      out_channels=hidden_dim,\n",
        "                      kernel_size=3,\n",
        "                      padding=1),\n",
        "            nn.ReLU(),\n",
        "            nn.Conv2d(in_channels=hidden_dim,\n",
        "                      out_channels=hidden_dim,\n",
        "                      kernel_size=3,\n",
        "                      padding=1),\n",
        "            nn.ReLU(),\n",
        "            nn.MaxPool2d(kernel_size=2,\n",
        "                         stride=2)\n",
        "        )\n",
        "        self.block2 = nn.Sequential(\n",
        "            nn.Conv2d(in_channels=hidden_dim,\n",
        "                      out_channels=hidden_dim,\n",
        "                      kernel_size=3,\n",
        "                      padding=1),\n",
        "            nn.ReLU(),\n",
        "            nn.Conv2d(in_channels=hidden_dim,\n",
        "                      out_channels=hidden_dim,\n",
        "                      kernel_size=3,\n",
        "                      padding=1),\n",
        "            nn.ReLU(),\n",
        "            nn.MaxPool2d(kernel_size=2,\n",
        "                         stride=2)\n",
        "        )\n",
        "        self.classifier = nn.Sequential(\n",
        "            nn.Flatten(),\n",
        "            nn.Linear(in_features=int(hidden_dim * (sample_image.shape[1]/4)**2), out_features=output_dim)\n",
        "        )\n",
        "    \n",
        "    def forward(self, x):\n",
        "        x = self.block1(x)\n",
        "        x = self.block2(x)\n",
        "        x = self.classifier(x)\n",
        "        return x \n",
        "    \n",
        "model = TinyVGG(1, 10, 10).to(device)\n",
        "model"
      ]
    },
    {
      "cell_type": "markdown",
      "metadata": {
        "id": "sf_3zUr7xlhy"
      },
      "source": [
        "## 9. Train the model you built in exercise 8. for 5 epochs on CPU and GPU and see how long it takes on each."
      ]
    },
    {
      "cell_type": "code",
      "execution_count": 7,
      "metadata": {
        "id": "jSo6vVWFbNLD"
      },
      "outputs": [],
      "source": [
        "from helper_functions import accuracy_fn\n",
        "loss_fn = torch.nn.CrossEntropyLoss()\n",
        "optimizer = torch.optim.SGD(params=model.parameters(),\n",
        "                            lr=0.1)\n",
        "\n",
        "def train_step(model, loss_fn, optimizer, device, accuracy_fn, dataloader):\n",
        "    loss_sum, acc_sum = 0, 0\n",
        "    model.train()\n",
        "    for X, y in dataloader:\n",
        "        X, y = X.to(device), y.to(device)\n",
        "        y_logits = model(X)\n",
        "        loss = loss_fn(y_logits, y)\n",
        "        optimizer.zero_grad()\n",
        "        loss.backward()\n",
        "        optimizer.step()\n",
        "\n",
        "        y_pred = y_logits.softmax(dim=-1).argmax(-1)\n",
        "        loss_sum += loss.item()\n",
        "        acc_sum += accuracy_fn(y_true=y,\n",
        "                               y_pred=y_pred)\n",
        "    loss_result = loss_sum / len(dataloader)\n",
        "    acc_result = acc_sum / len(dataloader)\n",
        "    print(f\"Trainig loss: {loss_result} | Training accuracy: {acc_result}\")\n",
        "\n",
        "\n",
        "def test_step(model, loss_fn, device, accuracy_fn, dataloader):\n",
        "    loss_sum, acc_sum = 0, 0\n",
        "    model.eval()\n",
        "    with torch.inference_mode():\n",
        "        for X, y in dataloader:\n",
        "            X, y = X.to(device), y.to(device)\n",
        "            y_logits = model(X)\n",
        "            loss = loss_fn(y_logits, y)\n",
        "\n",
        "            y_pred = y_logits.softmax(dim=-1).argmax(-1)\n",
        "            loss_sum += loss.item()\n",
        "            acc_sum += accuracy_fn(y_true=y,\n",
        "                                y_pred=y_pred)\n",
        "    loss_result = loss_sum / len(dataloader)\n",
        "    acc_result = acc_sum / len(dataloader)\n",
        "    print(f\"Test loss: {loss_result} | Test accuracy: {acc_result}\")"
      ]
    },
    {
      "cell_type": "code",
      "execution_count": 8,
      "metadata": {},
      "outputs": [
        {
          "name": "stderr",
          "output_type": "stream",
          "text": [
            "  0%|          | 0/5 [00:00<?, ?it/s]"
          ]
        },
        {
          "name": "stdout",
          "output_type": "stream",
          "text": [
            "----------Epoch0----------\n",
            "Trainig loss: 0.3470702619602283 | Training accuracy: 88.29333333333334\n"
          ]
        },
        {
          "name": "stderr",
          "output_type": "stream",
          "text": [
            " 20%|██        | 1/5 [00:05<00:21,  5.27s/it]"
          ]
        },
        {
          "name": "stdout",
          "output_type": "stream",
          "text": [
            "Test loss: 0.09139025674987072 | Test accuracy: 97.19448881789137\n",
            "----------Epoch1----------\n",
            "Trainig loss: 0.09098130550176527 | Training accuracy: 97.115\n"
          ]
        },
        {
          "name": "stderr",
          "output_type": "stream",
          "text": [
            " 40%|████      | 2/5 [00:10<00:16,  5.46s/it]"
          ]
        },
        {
          "name": "stdout",
          "output_type": "stream",
          "text": [
            "Test loss: 0.06200954113580538 | Test accuracy: 97.95327476038338\n",
            "----------Epoch2----------\n",
            "Trainig loss: 0.07286174522677515 | Training accuracy: 97.76333333333334\n"
          ]
        },
        {
          "name": "stderr",
          "output_type": "stream",
          "text": [
            " 60%|██████    | 3/5 [00:16<00:11,  5.59s/it]"
          ]
        },
        {
          "name": "stdout",
          "output_type": "stream",
          "text": [
            "Test loss: 0.05909513807417594 | Test accuracy: 98.13298722044729\n",
            "----------Epoch3----------\n",
            "Trainig loss: 0.0638463486289295 | Training accuracy: 97.98\n"
          ]
        },
        {
          "name": "stderr",
          "output_type": "stream",
          "text": [
            " 80%|████████  | 4/5 [00:22<00:05,  5.64s/it]"
          ]
        },
        {
          "name": "stdout",
          "output_type": "stream",
          "text": [
            "Test loss: 0.05820577426649148 | Test accuracy: 98.10303514376997\n",
            "----------Epoch4----------\n",
            "Trainig loss: 0.057583418115290504 | Training accuracy: 98.21166666666667\n"
          ]
        },
        {
          "name": "stderr",
          "output_type": "stream",
          "text": [
            "100%|██████████| 5/5 [00:26<00:00,  5.39s/it]"
          ]
        },
        {
          "name": "stdout",
          "output_type": "stream",
          "text": [
            "Test loss: 0.047593216207717136 | Test accuracy: 98.48242811501598\n"
          ]
        },
        {
          "name": "stderr",
          "output_type": "stream",
          "text": [
            "\n"
          ]
        }
      ],
      "source": [
        "from tqdm import tqdm\n",
        "\n",
        "EPOCH_NUM = 5\n",
        "\n",
        "torch.manual_seed(42)\n",
        "for epoch in tqdm(range(EPOCH_NUM)):\n",
        "    print(\"-\"*10 + f\"Epoch{epoch}\" + \"-\"*10)\n",
        "    train_step(model=model,\n",
        "               loss_fn=loss_fn,\n",
        "               optimizer=optimizer,\n",
        "               device=device,\n",
        "               accuracy_fn=accuracy_fn,\n",
        "               dataloader=train_dataloader)\n",
        "    test_step(model=model,\n",
        "               loss_fn=loss_fn,\n",
        "               device=device,\n",
        "               accuracy_fn=accuracy_fn,\n",
        "               dataloader=test_dataloader)\n",
        "\n",
        "torch.save(model.state_dict(), \"models/03_03_pytorch_computer_vision_model_exercise.pth\")"
      ]
    },
    {
      "cell_type": "markdown",
      "metadata": {
        "id": "w1CsHhPpxp1w"
      },
      "source": [
        "## 10. Make predictions using your trained model and visualize at least 5 of them comparing the prediciton to the target label."
      ]
    },
    {
      "cell_type": "code",
      "execution_count": 9,
      "metadata": {
        "id": "_YGgZvSobNxu"
      },
      "outputs": [
        {
          "data": {
            "image/png": "[encoded data removed]",
            "text/plain": [
              "<Figure size 900x600 with 6 Axes>"
            ]
          },
          "metadata": {},
          "output_type": "display_data"
        }
      ],
      "source": [
        "import random\n",
        "import matplotlib.pyplot as plt\n",
        "\n",
        "_, axs = plt.subplots(2, 3, figsize=(9, 6))\n",
        "y_labels, y_pred_results = [], []\n",
        "\n",
        "for i, (image, label) in enumerate(random.sample(list(test_dataset), k=6)):\n",
        "    model.eval()\n",
        "    with torch.inference_mode():\n",
        "        image = image.to(device)\n",
        "        y_pred = model(image.unsqueeze(dim=0)).softmax(dim=-1).argmax(dim=-1).cpu().item()\n",
        "        x = i // 3\n",
        "        y = i % 3\n",
        "        axs[x, y].imshow(image.cpu().squeeze(), cmap=\"gray\")\n",
        "        if y_pred == label:\n",
        "            axs[x, y].set_title(f\"Label: {class_labels[label]} | y_pred: {class_labels[label]}\", c=\"green\")\n",
        "        else:\n",
        "            axs[x, y].set_title(f\"Label: {class_labels[label]} | y_pred: {class_labels[label]}\", c=\"red\")\n",
        "    y_pred_results.append(y_pred)\n",
        "    y_labels.append(label)"
      ]
    },
    {
      "cell_type": "markdown",
      "metadata": {
        "id": "qQwzqlBWxrpG"
      },
      "source": [
        "## 11. Plot a confusion matrix comparing your model's predictions to the truth labels."
      ]
    },
    {
      "cell_type": "code",
      "execution_count": 10,
      "metadata": {
        "id": "vSrXiT_AbQ6e"
      },
      "outputs": [
        {
          "name": "stderr",
          "output_type": "stream",
          "text": [
            "/home/qiyaoxue/miniconda3/envs/python3.10/lib/python3.10/site-packages/tqdm/auto.py:21: TqdmWarning: IProgress not found. Please update jupyter and ipywidgets. See https://ipywidgets.readthedocs.io/en/stable/user_install.html\n",
            "  from .autonotebook import tqdm as notebook_tqdm\n"
          ]
        },
        {
          "data": {
            "image/png": "[encoded data removed]",
            "text/plain": [
              "<Figure size 2000x1000 with 1 Axes>"
            ]
          },
          "metadata": {},
          "output_type": "display_data"
        }
      ],
      "source": [
        "from torchmetrics import ConfusionMatrix\n",
        "from mlxtend.plotting import plot_confusion_matrix\n",
        "import random\n",
        "\n",
        "y_labels, y_pred_results = [], []\n",
        "\n",
        "for i, (image, label) in enumerate(random.sample(list(test_dataset), k=10000)):\n",
        "    model.eval()\n",
        "    with torch.inference_mode():\n",
        "        image = image.to(device)\n",
        "        y_pred = model(image.unsqueeze(dim=0)).softmax(dim=-1).argmax(dim=-1).cpu().item()\n",
        "        x = i // 3\n",
        "        y = i % 3\n",
        "    y_pred_results.append(y_pred)\n",
        "    y_labels.append(label)\n",
        "\n",
        "conf_mat = ConfusionMatrix(task='multiclass', num_classes=len(class_labels))\n",
        "conf_mat_result = conf_mat(preds=torch.Tensor(y_pred_results),\n",
        "                           target=torch.Tensor(y_labels))\n",
        "\n",
        "fig, axs = plot_confusion_matrix(conf_mat=conf_mat_result.numpy(),\n",
        "                                 figsize=(20, 10),\n",
        "                                 class_names=class_labels)"
      ]
    },
    {
      "cell_type": "markdown",
      "metadata": {
        "id": "lj6bDhoWxt2y"
      },
      "source": [
        "## 12. Create a random tensor of shape `[1, 3, 64, 64]` and pass it through a `nn.Conv2d()` layer with various hyperparameter settings (these can be any settings you choose), what do you notice if the `kernel_size` parameter goes up and down?"
      ]
    },
    {
      "cell_type": "code",
      "execution_count": null,
      "metadata": {
        "id": "leCTsqtSbR5P"
      },
      "outputs": [],
      "source": []
    },
    {
      "cell_type": "markdown",
      "metadata": {
        "id": "VHS20cNTxwSi"
      },
      "source": [
        "## 13. Use a model similar to the trained `model_2` from notebook 03 to make predictions on the test [`torchvision.datasets.FashionMNIST`](https://pytorch.org/vision/main/generated/torchvision.datasets.FashionMNIST.html) dataset. \n",
        "* Then plot some predictions where the model was wrong alongside what the label of the image should've been. \n",
        "* After visualing these predictions do you think it's more of a modelling error or a data error? \n",
        "* As in, could the model do better or are the labels of the data too close to each other (e.g. a \"Shirt\" label is too close to \"T-shirt/top\")?"
      ]
    },
    {
      "cell_type": "code",
      "execution_count": 11,
      "metadata": {
        "id": "78a8LjtdbSZj"
      },
      "outputs": [
        {
          "name": "stdout",
          "output_type": "stream",
          "text": [
            "Fashion MNIST training dataset data length: 60000 | Fashion MNIST training dataset label length: 60000\n",
            "Fashion MNIST test dataset data length: 10000 | Fashion MNIST test dataset label length: 10000\n"
          ]
        }
      ],
      "source": [
        "from torchvision import datasets\n",
        "from torchvision.transforms import ToTensor\n",
        "\n",
        "fashion_train_dataset = datasets.FashionMNIST(root=\"data\",\n",
        "                                              train=True,\n",
        "                                              transform=ToTensor(),\n",
        "                                              download=True)\n",
        "\n",
        "fashion_test_dataset = datasets.FashionMNIST(root=\"data\",\n",
        "                                             train=False,\n",
        "                                             transform=ToTensor(),\n",
        "                                             download=True)\n",
        "print(f\"Fashion MNIST training dataset data length: {len(fashion_train_dataset.data)} | Fashion MNIST training dataset label length: {len(fashion_train_dataset.targets)}\" )\n",
        "print(f\"Fashion MNIST test dataset data length: {len(fashion_test_dataset.data)} | Fashion MNIST test dataset label length: {len(fashion_test_dataset.targets)}\" )"
      ]
    },
    {
      "cell_type": "code",
      "execution_count": 12,
      "metadata": {},
      "outputs": [
        {
          "name": "stderr",
          "output_type": "stream",
          "text": [
            "/tmp/ipykernel_230865/427622759.py:2: FutureWarning: You are using `torch.load` with `weights_only=False` (the current default value), which uses the default pickle module implicitly. It is possible to construct malicious pickle data which will execute arbitrary code during unpickling (See https://github.com/pytorch/pytorch/blob/main/SECURITY.md#untrusted-models for more details). In a future release, the default value for `weights_only` will be flipped to `True`. This limits the functions that could be executed during unpickling. Arbitrary objects will no longer be allowed to be loaded via this mode unless they are explicitly allowlisted by the user via `torch.serialization.add_safe_globals`. We recommend you start setting `weights_only=True` for any use case where you don't have full control of the loaded file. Please open an issue on GitHub for any issues related to this experimental feature.\n",
            "  model.load_state_dict(torch.load(\"models/03_pytorch_computer_vision_model_2.pth\"))\n"
          ]
        },
        {
          "data": {
            "text/plain": [
              "<All keys matched successfully>"
            ]
          },
          "execution_count": 12,
          "metadata": {},
          "output_type": "execute_result"
        }
      ],
      "source": [
        "model = TinyVGG(input_dim=1, hidden_dim=10, output_dim=10)\n",
        "model.load_state_dict(torch.load(\"models/03_pytorch_computer_vision_model_2.pth\"))"
      ]
    },
    {
      "cell_type": "code",
      "execution_count": 13,
      "metadata": {},
      "outputs": [
        {
          "ename": "SyntaxError",
          "evalue": "incomplete input (1155310448.py, line 5)",
          "output_type": "error",
          "traceback": [
            "\u001b[0;36m  Cell \u001b[0;32mIn[13], line 5\u001b[0;36m\u001b[0m\n\u001b[0;31m    \u001b[0m\n\u001b[0m    ^\u001b[0m\n\u001b[0;31mSyntaxError\u001b[0m\u001b[0;31m:\u001b[0m incomplete input\n"
          ]
        }
      ],
      "source": [
        "from tqdm import tqdm\n",
        "model.eval()\n",
        "with torch.inference_mode():\n",
        "    for X, y in tqdm(test_dataloader):\n",
        "    "
      ]
    }
  ],
  "metadata": {
    "accelerator": "GPU",
    "colab": {
      "authorship_tag": "ABX9TyMUsDcN/+FAm9Pf7Ifqs6AZ",
      "collapsed_sections": [],
      "include_colab_link": true,
      "name": "03_pytorch_computer_vision_exercises.ipynb",
      "provenance": []
    },
    "kernelspec": {
      "display_name": "python3.10",
      "language": "python",
      "name": "python3"
    },
    "language_info": {
      "codemirror_mode": {
        "name": "ipython",
        "version": 3
      },
      "file_extension": ".py",
      "mimetype": "text/x-python",
      "name": "python",
      "nbconvert_exporter": "python",
      "pygments_lexer": "ipython3",
      "version": "3.10.14"
    }
  },
  "nbformat": 4,
  "nbformat_minor": 0
}
